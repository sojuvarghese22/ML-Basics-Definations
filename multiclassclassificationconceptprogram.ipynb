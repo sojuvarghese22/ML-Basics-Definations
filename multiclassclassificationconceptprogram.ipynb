{
  "nbformat": 4,
  "nbformat_minor": 0,
  "metadata": {
    "colab": {
      "name": "multiclassclassificationconceptprogram.ipynb",
      "provenance": [],
      "authorship_tag": "ABX9TyO98ZZe5tZmc63t65L2pAY2",
      "include_colab_link": true
    },
    "kernelspec": {
      "name": "python3",
      "display_name": "Python 3"
    },
    "language_info": {
      "name": "python"
    }
  },
  "cells": [
    {
      "cell_type": "markdown",
      "metadata": {
        "id": "view-in-github",
        "colab_type": "text"
      },
      "source": [
        "<a href=\"https://colab.research.google.com/github/sojuvarghese22/ML-programs/blob/main/multiclassclassificationconceptprogram.ipynb\" target=\"_parent\"><img src=\"https://colab.research.google.com/assets/colab-badge.svg\" alt=\"Open In Colab\"/></a>"
      ]
    },
    {
      "cell_type": "code",
      "execution_count": 14,
      "metadata": {
        "colab": {
          "base_uri": "https://localhost:8080/",
          "height": 1000
        },
        "id": "ewsp1j3NrS-H",
        "outputId": "8c29ded3-157c-4a48-dca3-d813a266b32b"
      },
      "outputs": [
        {
          "output_type": "display_data",
          "data": {
            "text/plain": [
              "<Figure size 432x288 with 0 Axes>"
            ]
          },
          "metadata": {}
        },
        {
          "output_type": "display_data",
          "data": {
            "text/plain": [
              "<Figure size 288x288 with 1 Axes>"
            ],
            "image/png": "[encoded data removed]"
          },
          "metadata": {
            "needs_background": "light"
          }
        },
        {
          "output_type": "display_data",
          "data": {
            "text/plain": [
              "<Figure size 288x288 with 1 Axes>"
            ],
            "image/png": "[encoded data removed]"
          },
          "metadata": {
            "needs_background": "light"
          }
        },
        {
          "output_type": "display_data",
          "data": {
            "text/plain": [
              "<Figure size 288x288 with 1 Axes>"
            ],
            "image/png": "[encoded data removed]"
          },
          "metadata": {
            "needs_background": "light"
          }
        },
        {
          "output_type": "display_data",
          "data": {
            "text/plain": [
              "<Figure size 288x288 with 1 Axes>"
            ],
            "image/png": "[encoded data removed]"
          },
          "metadata": {
            "needs_background": "light"
          }
        },
        {
          "output_type": "display_data",
          "data": {
            "text/plain": [
              "<Figure size 288x288 with 1 Axes>"
            ],
            "image/png": "[encoded data removed]"
          },
          "metadata": {
            "needs_background": "light"
          }
        }
      ],
      "source": [
        "from sklearn.datasets import load_digits\n",
        "%matplotlib inline\n",
        "import matplotlib.pyplot as plt\n",
        "digits = load_digits()\n",
        "plt.gray() \n",
        "len(digits)\n",
        "for i in range(5):\n",
        "    plt.matshow(digits.images[i])"
      ]
    },
    {
      "cell_type": "code",
      "source": [
        "dir(digits)"
      ],
      "metadata": {
        "colab": {
          "base_uri": "https://localhost:8080/"
        },
        "id": "fpus2wDftLIG",
        "outputId": "6e146ed3-cc3f-478c-becb-e3c3de02cac3"
      },
      "execution_count": 15,
      "outputs": [
        {
          "output_type": "execute_result",
          "data": {
            "text/plain": [
              "['DESCR', 'data', 'feature_names', 'frame', 'images', 'target', 'target_names']"
            ]
          },
          "metadata": {},
          "execution_count": 15
        }
      ]
    },
    {
      "cell_type": "code",
      "source": [
        "digits.images\n"
      ],
      "metadata": {
        "colab": {
          "base_uri": "https://localhost:8080/"
        },
        "id": "WjfP6c00tP8d",
        "outputId": "b95b400e-ec94-47eb-958a-809601f2c65e"
      },
      "execution_count": 17,
      "outputs": [
        {
          "output_type": "execute_result",
          "data": {
            "text/plain": [
              "array([[[ 0.,  0.,  5., ...,  1.,  0.,  0.],\n",
              "        [ 0.,  0., 13., ..., 15.,  5.,  0.],\n",
              "        [ 0.,  3., 15., ..., 11.,  8.,  0.],\n",
              "        ...,\n",
              "        [ 0.,  4., 11., ..., 12.,  7.,  0.],\n",
              "        [ 0.,  2., 14., ..., 12.,  0.,  0.],\n",
              "        [ 0.,  0.,  6., ...,  0.,  0.,  0.]],\n",
              "\n",
              "       [[ 0.,  0.,  0., ...,  5.,  0.,  0.],\n",
              "        [ 0.,  0.,  0., ...,  9.,  0.,  0.],\n",
              "        [ 0.,  0.,  3., ...,  6.,  0.,  0.],\n",
              "        ...,\n",
              "        [ 0.,  0.,  1., ...,  6.,  0.,  0.],\n",
              "        [ 0.,  0.,  1., ...,  6.,  0.,  0.],\n",
              "        [ 0.,  0.,  0., ..., 10.,  0.,  0.]],\n",
              "\n",
              "       [[ 0.,  0.,  0., ..., 12.,  0.,  0.],\n",
              "        [ 0.,  0.,  3., ..., 14.,  0.,  0.],\n",
              "        [ 0.,  0.,  8., ..., 16.,  0.,  0.],\n",
              "        ...,\n",
              "        [ 0.,  9., 16., ...,  0.,  0.,  0.],\n",
              "        [ 0.,  3., 13., ..., 11.,  5.,  0.],\n",
              "        [ 0.,  0.,  0., ..., 16.,  9.,  0.]],\n",
              "\n",
              "       ...,\n",
              "\n",
              "       [[ 0.,  0.,  1., ...,  1.,  0.,  0.],\n",
              "        [ 0.,  0., 13., ...,  2.,  1.,  0.],\n",
              "        [ 0.,  0., 16., ..., 16.,  5.,  0.],\n",
              "        ...,\n",
              "        [ 0.,  0., 16., ..., 15.,  0.,  0.],\n",
              "        [ 0.,  0., 15., ..., 16.,  0.,  0.],\n",
              "        [ 0.,  0.,  2., ...,  6.,  0.,  0.]],\n",
              "\n",
              "       [[ 0.,  0.,  2., ...,  0.,  0.,  0.],\n",
              "        [ 0.,  0., 14., ..., 15.,  1.,  0.],\n",
              "        [ 0.,  4., 16., ..., 16.,  7.,  0.],\n",
              "        ...,\n",
              "        [ 0.,  0.,  0., ..., 16.,  2.,  0.],\n",
              "        [ 0.,  0.,  4., ..., 16.,  2.,  0.],\n",
              "        [ 0.,  0.,  5., ..., 12.,  0.,  0.]],\n",
              "\n",
              "       [[ 0.,  0., 10., ...,  1.,  0.,  0.],\n",
              "        [ 0.,  2., 16., ...,  1.,  0.,  0.],\n",
              "        [ 0.,  0., 15., ..., 15.,  0.,  0.],\n",
              "        ...,\n",
              "        [ 0.,  4., 16., ..., 16.,  6.,  0.],\n",
              "        [ 0.,  8., 16., ..., 16.,  8.,  0.],\n",
              "        [ 0.,  1.,  8., ..., 12.,  1.,  0.]]])"
            ]
          },
          "metadata": {},
          "execution_count": 17
        }
      ]
    },
    {
      "cell_type": "code",
      "source": [
        "digits['images']"
      ],
      "metadata": {
        "colab": {
          "base_uri": "https://localhost:8080/"
        },
        "id": "BRgyhAeztshb",
        "outputId": "4b524570-5213-415c-f2e7-ce37644c1ad5"
      },
      "execution_count": 22,
      "outputs": [
        {
          "output_type": "execute_result",
          "data": {
            "text/plain": [
              "array([[[ 0.,  0.,  5., ...,  1.,  0.,  0.],\n",
              "        [ 0.,  0., 13., ..., 15.,  5.,  0.],\n",
              "        [ 0.,  3., 15., ..., 11.,  8.,  0.],\n",
              "        ...,\n",
              "        [ 0.,  4., 11., ..., 12.,  7.,  0.],\n",
              "        [ 0.,  2., 14., ..., 12.,  0.,  0.],\n",
              "        [ 0.,  0.,  6., ...,  0.,  0.,  0.]],\n",
              "\n",
              "       [[ 0.,  0.,  0., ...,  5.,  0.,  0.],\n",
              "        [ 0.,  0.,  0., ...,  9.,  0.,  0.],\n",
              "        [ 0.,  0.,  3., ...,  6.,  0.,  0.],\n",
              "        ...,\n",
              "        [ 0.,  0.,  1., ...,  6.,  0.,  0.],\n",
              "        [ 0.,  0.,  1., ...,  6.,  0.,  0.],\n",
              "        [ 0.,  0.,  0., ..., 10.,  0.,  0.]],\n",
              "\n",
              "       [[ 0.,  0.,  0., ..., 12.,  0.,  0.],\n",
              "        [ 0.,  0.,  3., ..., 14.,  0.,  0.],\n",
              "        [ 0.,  0.,  8., ..., 16.,  0.,  0.],\n",
              "        ...,\n",
              "        [ 0.,  9., 16., ...,  0.,  0.,  0.],\n",
              "        [ 0.,  3., 13., ..., 11.,  5.,  0.],\n",
              "        [ 0.,  0.,  0., ..., 16.,  9.,  0.]],\n",
              "\n",
              "       ...,\n",
              "\n",
              "       [[ 0.,  0.,  1., ...,  1.,  0.,  0.],\n",
              "        [ 0.,  0., 13., ...,  2.,  1.,  0.],\n",
              "        [ 0.,  0., 16., ..., 16.,  5.,  0.],\n",
              "        ...,\n",
              "        [ 0.,  0., 16., ..., 15.,  0.,  0.],\n",
              "        [ 0.,  0., 15., ..., 16.,  0.,  0.],\n",
              "        [ 0.,  0.,  2., ...,  6.,  0.,  0.]],\n",
              "\n",
              "       [[ 0.,  0.,  2., ...,  0.,  0.,  0.],\n",
              "        [ 0.,  0., 14., ..., 15.,  1.,  0.],\n",
              "        [ 0.,  4., 16., ..., 16.,  7.,  0.],\n",
              "        ...,\n",
              "        [ 0.,  0.,  0., ..., 16.,  2.,  0.],\n",
              "        [ 0.,  0.,  4., ..., 16.,  2.,  0.],\n",
              "        [ 0.,  0.,  5., ..., 12.,  0.,  0.]],\n",
              "\n",
              "       [[ 0.,  0., 10., ...,  1.,  0.,  0.],\n",
              "        [ 0.,  2., 16., ...,  1.,  0.,  0.],\n",
              "        [ 0.,  0., 15., ..., 15.,  0.,  0.],\n",
              "        ...,\n",
              "        [ 0.,  4., 16., ..., 16.,  6.,  0.],\n",
              "        [ 0.,  8., 16., ..., 16.,  8.,  0.],\n",
              "        [ 0.,  1.,  8., ..., 12.,  1.,  0.]]])"
            ]
          },
          "metadata": {},
          "execution_count": 22
        }
      ]
    },
    {
      "cell_type": "code",
      "source": [
        "from sklearn.model_selection import train_test_split\n"
      ],
      "metadata": {
        "id": "JMmePeOMxbxk"
      },
      "execution_count": 25,
      "outputs": []
    },
    {
      "cell_type": "code",
      "source": [
        "X_train, X_test, y_train, y_test = train_test_split(digits.data,digits.target, test_size=0.2)\n"
      ],
      "metadata": {
        "id": "eABpGbkOweJ8"
      },
      "execution_count": 26,
      "outputs": []
    },
    {
      "cell_type": "code",
      "source": [
        "X_train"
      ],
      "metadata": {
        "colab": {
          "base_uri": "https://localhost:8080/"
        },
        "id": "31Z9BlezxiYF",
        "outputId": "9fa980e3-d127-463a-da27-1b4ec3790ba2"
      },
      "execution_count": 27,
      "outputs": [
        {
          "output_type": "execute_result",
          "data": {
            "text/plain": [
              "array([[ 0.,  0.,  0., ...,  7.,  0.,  0.],\n",
              "       [ 0.,  0.,  0., ...,  1.,  0.,  0.],\n",
              "       [ 0.,  0.,  6., ..., 16.,  4.,  0.],\n",
              "       ...,\n",
              "       [ 0.,  0.,  9., ..., 15.,  2.,  0.],\n",
              "       [ 0.,  1.,  8., ...,  4.,  0.,  0.],\n",
              "       [ 0.,  2., 15., ...,  4.,  1.,  0.]])"
            ]
          },
          "metadata": {},
          "execution_count": 27
        }
      ]
    },
    {
      "cell_type": "code",
      "source": [
        "y_train"
      ],
      "metadata": {
        "colab": {
          "base_uri": "https://localhost:8080/"
        },
        "id": "aA1g5I_6xs3O",
        "outputId": "f559d8e5-b37b-451f-972a-d6d374337941"
      },
      "execution_count": 29,
      "outputs": [
        {
          "output_type": "execute_result",
          "data": {
            "text/plain": [
              "array([0, 1, 9, ..., 0, 5, 2])"
            ]
          },
          "metadata": {},
          "execution_count": 29
        }
      ]
    },
    {
      "cell_type": "code",
      "source": [
        "X_test"
      ],
      "metadata": {
        "colab": {
          "base_uri": "https://localhost:8080/"
        },
        "id": "TDWc3Vg-y0EZ",
        "outputId": "a5b7589c-dbd9-486f-ae75-7da3cc7ee23b"
      },
      "execution_count": 30,
      "outputs": [
        {
          "output_type": "execute_result",
          "data": {
            "text/plain": [
              "array([[0., 0., 0., ..., 0., 0., 0.],\n",
              "       [0., 0., 8., ..., 0., 0., 0.],\n",
              "       [0., 0., 3., ..., 7., 0., 0.],\n",
              "       ...,\n",
              "       [0., 0., 3., ..., 0., 0., 0.],\n",
              "       [0., 0., 0., ..., 0., 0., 0.],\n",
              "       [0., 0., 6., ..., 0., 0., 0.]])"
            ]
          },
          "metadata": {},
          "execution_count": 30
        }
      ]
    },
    {
      "cell_type": "code",
      "source": [
        "\n",
        "X_train, X_test, y_train, y_test = train_test_split(digits.data,digits.target, test_size=0.2)"
      ],
      "metadata": {
        "id": "DYqbQxvnzOrC"
      },
      "execution_count": 37,
      "outputs": []
    },
    {
      "cell_type": "code",
      "source": [
        "from sklearn.linear_model import LogisticRegression\n",
        "model = LogisticRegression()"
      ],
      "metadata": {
        "id": "c2cx9NJ_1iK1"
      },
      "execution_count": null,
      "outputs": []
    },
    {
      "cell_type": "code",
      "source": [
        "model.fit(X_train,y_train)\n"
      ],
      "metadata": {
        "colab": {
          "base_uri": "https://localhost:8080/"
        },
        "id": "s9FSJkriz_yY",
        "outputId": "82ed699a-54d8-4ca1-c9ac-9e11676054ac"
      },
      "execution_count": 38,
      "outputs": [
        {
          "output_type": "stream",
          "name": "stderr",
          "text": [
            "/usr/local/lib/python3.7/dist-packages/sklearn/linear_model/_logistic.py:818: ConvergenceWarning: lbfgs failed to converge (status=1):\n",
            "STOP: TOTAL NO. of ITERATIONS REACHED LIMIT.\n",
            "\n",
            "Increase the number of iterations (max_iter) or scale the data as shown in:\n",
            "    https://scikit-learn.org/stable/modules/preprocessing.html\n",
            "Please also refer to the documentation for alternative solver options:\n",
            "    https://scikit-learn.org/stable/modules/linear_model.html#logistic-regression\n",
            "  extra_warning_msg=_LOGISTIC_SOLVER_CONVERGENCE_MSG,\n"
          ]
        },
        {
          "output_type": "execute_result",
          "data": {
            "text/plain": [
              "LogisticRegression()"
            ]
          },
          "metadata": {},
          "execution_count": 38
        }
      ]
    },
    {
      "cell_type": "code",
      "source": [
        "model.predict(X_test)\n"
      ],
      "metadata": {
        "colab": {
          "base_uri": "https://localhost:8080/"
        },
        "id": "Nw4d3gMy1mko",
        "outputId": "82bbcbd5-b855-408a-b1cf-b9c1b275b926"
      },
      "execution_count": 40,
      "outputs": [
        {
          "output_type": "execute_result",
          "data": {
            "text/plain": [
              "array([8, 1, 6, 6, 7, 9, 1, 9, 1, 7, 1, 7, 2, 1, 1, 6, 4, 0, 1, 6, 2, 7,\n",
              "       0, 4, 2, 6, 6, 4, 4, 0, 8, 3, 5, 5, 0, 5, 4, 7, 8, 9, 1, 4, 0, 5,\n",
              "       4, 3, 2, 3, 4, 8, 2, 8, 7, 2, 3, 3, 4, 0, 2, 9, 6, 4, 7, 2, 2, 7,\n",
              "       8, 1, 9, 7, 9, 9, 4, 4, 0, 0, 3, 8, 6, 7, 8, 6, 9, 4, 9, 4, 1, 0,\n",
              "       2, 6, 9, 5, 1, 9, 8, 2, 4, 6, 7, 0, 1, 9, 0, 5, 8, 2, 3, 2, 2, 3,\n",
              "       5, 6, 4, 6, 4, 2, 2, 2, 4, 1, 5, 2, 5, 6, 5, 0, 2, 8, 7, 3, 1, 3,\n",
              "       2, 9, 2, 1, 0, 2, 6, 9, 1, 8, 9, 2, 6, 4, 5, 7, 0, 7, 6, 8, 5, 8,\n",
              "       5, 4, 5, 9, 8, 1, 1, 7, 2, 4, 2, 5, 3, 0, 3, 8, 2, 0, 9, 3, 2, 3,\n",
              "       0, 5, 9, 9, 5, 1, 9, 9, 3, 5, 0, 6, 6, 7, 1, 3, 4, 9, 5, 5, 3, 0,\n",
              "       8, 7, 5, 7, 9, 5, 2, 9, 0, 8, 9, 9, 1, 6, 3, 6, 4, 5, 2, 9, 4, 8,\n",
              "       6, 3, 8, 3, 4, 3, 0, 1, 6, 7, 4, 7, 3, 1, 8, 7, 2, 5, 0, 0, 1, 8,\n",
              "       8, 4, 7, 0, 2, 0, 6, 1, 7, 2, 2, 8, 9, 2, 2, 5, 2, 8, 6, 9, 6, 4,\n",
              "       1, 8, 9, 8, 1, 8, 3, 0, 3, 3, 6, 2, 8, 3, 9, 5, 3, 3, 5, 2, 4, 5,\n",
              "       2, 1, 6, 4, 5, 0, 0, 4, 8, 8, 5, 7, 3, 2, 1, 1, 7, 2, 1, 8, 6, 8,\n",
              "       8, 7, 4, 7, 7, 1, 6, 9, 7, 5, 1, 1, 6, 7, 9, 6, 9, 5, 7, 1, 0, 9,\n",
              "       5, 8, 3, 4, 5, 7, 9, 0, 6, 3, 0, 7, 3, 7, 1, 3, 1, 2, 4, 1, 4, 7,\n",
              "       3, 1, 6, 8, 3, 2, 5, 6])"
            ]
          },
          "metadata": {},
          "execution_count": 40
        }
      ]
    },
    {
      "cell_type": "code",
      "source": [
        ""
      ],
      "metadata": {
        "id": "Y2MtsBsc2DE4"
      },
      "execution_count": null,
      "outputs": []
    },
    {
      "cell_type": "code",
      "source": [
        "y_test"
      ],
      "metadata": {
        "colab": {
          "base_uri": "https://localhost:8080/"
        },
        "id": "XRSVLdVR1vuY",
        "outputId": "0d3a3018-1144-4f08-ac8b-80e5ef6969ef"
      },
      "execution_count": 41,
      "outputs": [
        {
          "output_type": "execute_result",
          "data": {
            "text/plain": [
              "array([8, 1, 6, 6, 7, 9, 1, 9, 1, 7, 1, 7, 2, 1, 1, 6, 4, 0, 1, 6, 2, 7,\n",
              "       0, 4, 2, 6, 6, 4, 5, 0, 8, 3, 5, 5, 0, 5, 4, 7, 8, 9, 1, 4, 0, 5,\n",
              "       0, 3, 2, 3, 4, 4, 2, 8, 7, 2, 3, 3, 4, 0, 2, 9, 6, 4, 7, 2, 5, 7,\n",
              "       8, 1, 9, 7, 9, 9, 4, 4, 0, 4, 3, 8, 6, 7, 8, 6, 9, 4, 9, 4, 1, 0,\n",
              "       2, 6, 9, 5, 1, 9, 8, 2, 4, 6, 7, 0, 1, 9, 0, 5, 8, 2, 3, 2, 2, 3,\n",
              "       5, 6, 4, 6, 4, 2, 2, 2, 4, 1, 5, 2, 5, 6, 5, 0, 2, 8, 7, 3, 1, 3,\n",
              "       2, 9, 2, 1, 0, 2, 6, 8, 1, 8, 8, 2, 6, 4, 5, 7, 0, 7, 6, 8, 5, 8,\n",
              "       5, 4, 5, 9, 8, 1, 1, 7, 2, 4, 2, 5, 3, 0, 3, 8, 2, 0, 9, 3, 2, 3,\n",
              "       0, 5, 9, 9, 5, 1, 8, 4, 3, 5, 0, 6, 6, 7, 1, 3, 4, 9, 5, 5, 3, 0,\n",
              "       8, 7, 5, 7, 9, 5, 2, 9, 0, 8, 9, 9, 1, 6, 3, 6, 4, 5, 2, 9, 4, 1,\n",
              "       6, 3, 8, 3, 4, 3, 0, 1, 6, 7, 4, 7, 3, 1, 8, 9, 2, 5, 0, 0, 1, 8,\n",
              "       8, 4, 7, 0, 2, 0, 6, 1, 7, 2, 2, 8, 9, 2, 2, 5, 2, 8, 6, 5, 6, 4,\n",
              "       1, 8, 9, 8, 1, 8, 3, 0, 3, 3, 6, 2, 8, 3, 9, 5, 3, 3, 5, 2, 4, 5,\n",
              "       2, 1, 6, 4, 8, 0, 0, 1, 8, 8, 5, 7, 3, 2, 1, 1, 7, 2, 1, 8, 6, 8,\n",
              "       8, 7, 4, 7, 7, 1, 6, 9, 7, 5, 1, 2, 6, 7, 9, 6, 9, 5, 7, 1, 0, 9,\n",
              "       5, 8, 3, 4, 5, 7, 9, 0, 6, 3, 0, 7, 3, 7, 1, 3, 1, 2, 4, 1, 4, 7,\n",
              "       3, 1, 6, 8, 3, 2, 5, 6])"
            ]
          },
          "metadata": {},
          "execution_count": 41
        }
      ]
    },
    {
      "cell_type": "code",
      "source": [
        "y_predicted = model.predict(X_test)"
      ],
      "metadata": {
        "id": "_Gtrd9n33ZJk"
      },
      "execution_count": 48,
      "outputs": []
    },
    {
      "cell_type": "code",
      "source": [
        "from sklearn.metrics import confusion_matrix\n",
        "cm = confusion_matrix(y_test, y_predicted)\n",
        "cm\n",
        "\n",
        "\n",
        "\n",
        "\n"
      ],
      "metadata": {
        "colab": {
          "base_uri": "https://localhost:8080/"
        },
        "id": "sDyIoY_wz9xR",
        "outputId": "bd7efa7d-8240-4641-e1fb-697ab12d85b0"
      },
      "execution_count": 49,
      "outputs": [
        {
          "output_type": "execute_result",
          "data": {
            "text/plain": [
              "array([[30,  0,  0,  0,  1,  0,  0,  0,  0,  0],\n",
              "       [ 0, 38,  0,  0,  1,  0,  0,  0,  1,  0],\n",
              "       [ 0,  1, 42,  0,  0,  0,  0,  0,  0,  0],\n",
              "       [ 0,  0,  0, 35,  0,  0,  0,  0,  0,  0],\n",
              "       [ 1,  0,  0,  0, 32,  0,  0,  0,  1,  1],\n",
              "       [ 0,  0,  1,  0,  1, 34,  0,  0,  0,  1],\n",
              "       [ 0,  0,  0,  0,  0,  0, 35,  0,  0,  0],\n",
              "       [ 0,  0,  0,  0,  0,  0,  0, 34,  0,  0],\n",
              "       [ 0,  0,  0,  0,  0,  1,  0,  0, 34,  3],\n",
              "       [ 0,  0,  0,  0,  0,  0,  0,  1,  0, 31]])"
            ]
          },
          "metadata": {},
          "execution_count": 49
        }
      ]
    },
    {
      "cell_type": "code",
      "source": [
        "import seaborn as sn\n",
        "plt.figure(figsize = (10,7))\n",
        "sn.heatmap(cm, annot=True)\n",
        "plt.xlabel('Predicted')\n",
        "plt.ylabel('Truth')"
      ],
      "metadata": {
        "colab": {
          "base_uri": "https://localhost:8080/",
          "height": 459
        },
        "id": "oHwCul-x30mA",
        "outputId": "6d4c87a3-6735-4abc-dccc-db754107375b"
      },
      "execution_count": 53,
      "outputs": [
        {
          "output_type": "execute_result",
          "data": {
            "text/plain": [
              "Text(69.0, 0.5, 'Truth')"
            ]
          },
          "metadata": {},
          "execution_count": 53
        },
        {
          "output_type": "display_data",
          "data": {
            "text/plain": [
              "<Figure size 720x504 with 2 Axes>"
            ],
            "image/png": "[encoded data removed]"
          },
          "metadata": {
            "needs_background": "light"
          }
        }
      ]
    },
    {
      "cell_type": "code",
      "source": [
        ""
      ],
      "metadata": {
        "id": "foqtATXL5K8I"
      },
      "execution_count": null,
      "outputs": []
    }
  ]
}